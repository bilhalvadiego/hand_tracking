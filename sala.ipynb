{
 "cells": [
  {
   "cell_type": "code",
   "execution_count": 63,
   "metadata": {},
   "outputs": [
    {
     "name": "stdout",
     "output_type": "stream",
     "text": [
      "Webhook executado com sucesso!\n"
     ]
    }
   ],
   "source": [
    "import requests\n",
    "\n",
    "url = \"https://us-apia.coolkit.cc/v2/smartscene2/webhooks/execute?id=e1d1ec2b94ce4c60b4b645f0b5fbbbe4\"\n",
    "\n",
    "# Faça uma solicitação GET para o webhook\n",
    "response = requests.get(url)\n",
    "\n",
    "# Verifique o status da resposta\n",
    "if response.status_code == 200:\n",
    "    print(\"Webhook executado com sucesso!\")\n",
    "else:\n",
    "    print(f\"Falha ao executar o webhook. Código de status: {response.status_code}\")\n",
    "    print(response.text)"
   ]
  },
  {
   "cell_type": "code",
   "execution_count": 71,
   "metadata": {},
   "outputs": [
    {
     "name": "stdout",
     "output_type": "stream",
     "text": [
      "Webhook executado com sucesso!\n"
     ]
    }
   ],
   "source": [
    "import requests\n",
    "\n",
    "url = \"https://maker.ifttt.com/trigger/startMusic/json/with/key/l3AztgFkl2fkMT3CwiXnNrOGdBH_5KMZHMOVLR1mo9f\"\n",
    "\n",
    "# Faça uma solicitação GET para o webhook\n",
    "response = requests.get(url)\n",
    "\n",
    "# Verifique o status da resposta\n",
    "if response.status_code == 200:\n",
    "    print(\"Webhook executado com sucesso!\")\n",
    "else:\n",
    "    print(f\"Falha ao executar o webhook. Código de status: {response.status_code}\")\n",
    "    print(response.text)"
   ]
  },
  {
   "cell_type": "code",
   "execution_count": 70,
   "metadata": {},
   "outputs": [
    {
     "name": "stdout",
     "output_type": "stream",
     "text": [
      "Webhook executado com sucesso!\n"
     ]
    }
   ],
   "source": [
    "import requests\n",
    "\n",
    "url = \"https://maker.ifttt.com/trigger/pauseMusic/json/with/key/l3AztgFkl2fkMT3CwiXnNrOGdBH_5KMZHMOVLR1mo9f\"\n",
    "\n",
    "# Faça uma solicitação GET para o webhook\n",
    "response = requests.get(url)\n",
    "\n",
    "# Verifique o status da resposta\n",
    "if response.status_code == 200:\n",
    "    print(\"Webhook executado com sucesso!\")\n",
    "else:\n",
    "    print(f\"Falha ao executar o webhook. Código de status: {response.status_code}\")\n",
    "    print(response.text)"
   ]
  },
  {
   "cell_type": "code",
   "execution_count": 67,
   "metadata": {},
   "outputs": [
    {
     "name": "stdout",
     "output_type": "stream",
     "text": [
      "Webhook executado com sucesso!\n"
     ]
    }
   ],
   "source": [
    "import requests\n",
    "\n",
    "url = \"https://maker.ifttt.com/trigger/teste/json/with/key/l3AztgFkl2fkMT3CwiXnNrOGdBH_5KMZHMOVLR1mo9f\"\n",
    "\n",
    "# Faça uma solicitação GET para o webhook\n",
    "response = requests.get(url)\n",
    "\n",
    "# Verifique o status da resposta\n",
    "if response.status_code == 200:\n",
    "    print(\"Webhook executado com sucesso!\")\n",
    "else:\n",
    "    print(f\"Falha ao executar o webhook. Código de status: {response.status_code}\")\n",
    "    print(response.text)"
   ]
  }
 ],
 "metadata": {
  "kernelspec": {
   "display_name": ".venv",
   "language": "python",
   "name": "python3"
  },
  "language_info": {
   "codemirror_mode": {
    "name": "ipython",
    "version": 3
   },
   "file_extension": ".py",
   "mimetype": "text/x-python",
   "name": "python",
   "nbconvert_exporter": "python",
   "pygments_lexer": "ipython3",
   "version": "3.11.2"
  }
 },
 "nbformat": 4,
 "nbformat_minor": 2
}
